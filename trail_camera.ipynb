{
 "cells": [
  {
   "cell_type": "markdown",
   "id": "a91fc041",
   "metadata": {},
   "source": [
    "# Trail Cam Monitoring Project\n",
    "\n",
    "**To Do:**\n",
    "\n",
    "- Training for checking camera / collecting data\n",
    "- Participate in checking camera array\n",
    "- Adopt array\n",
    "- Analyze data, determine cleaning/processing needs\n",
    "- Label critters, include in data structure\n",
    "- EDA\n",
    "- Features?\n",
    "- Predictive model?"
   ]
  },
  {
   "cell_type": "code",
   "execution_count": 2,
   "id": "8b41e722",
   "metadata": {},
   "outputs": [],
   "source": [
    "import numpy as np\n",
    "import pandas as pd\n",
    "import matplotlib.pyplot as plt\n",
    "\n",
    "%matplotlib inline"
   ]
  },
  {
   "cell_type": "code",
   "execution_count": 3,
   "id": "5fbf3336",
   "metadata": {},
   "outputs": [],
   "source": [
    "# TODO: Import api key\n",
    "key = \"\""
   ]
  },
  {
   "cell_type": "code",
   "execution_count": 4,
   "id": "d81b650b",
   "metadata": {},
   "outputs": [],
   "source": [
    "# !pip install roboflow\n",
    "\n",
    "# from roboflow import Roboflow\n",
    "# rf = Roboflow(api_key=key)\n",
    "# project = rf.workspace(\"roboflow-100\").project(\"trail-camera\")\n",
    "# dataset = project.version(2).download(\"yolov4pytorch\")"
   ]
  }
 ],
 "metadata": {
  "hide_input": false,
  "kernelspec": {
   "display_name": "Python 3 (ipykernel)",
   "language": "python",
   "name": "python3"
  },
  "language_info": {
   "codemirror_mode": {
    "name": "ipython",
    "version": 3
   },
   "file_extension": ".py",
   "mimetype": "text/x-python",
   "name": "python",
   "nbconvert_exporter": "python",
   "pygments_lexer": "ipython3",
   "version": "3.10.4"
  }
 },
 "nbformat": 4,
 "nbformat_minor": 5
}
