{
 "cells": [
  {
   "cell_type": "markdown",
   "id": "a91fc041",
   "metadata": {},
   "source": [
    "# Trail Cam Monitoring Project\n",
    "\n",
    "**To Do:**\n",
    "\n",
    "- Training for checking camera / collecting data\n",
    "- Participate in checking camera array\n",
    "- Adopt array\n",
    "- Clean data\n",
    "- Label critters\n",
    "- EDA, features\n",
    "- Predictive model?"
   ]
  },
  {
   "cell_type": "code",
   "execution_count": 1,
   "id": "8b41e722",
   "metadata": {},
   "outputs": [],
   "source": [
    "import numpy as np\n",
    "import pandas as pd\n",
    "import matplotlib.pyplot as plt\n",
    "\n",
    "%matplotlib inline"
   ]
  },
  {
   "cell_type": "code",
   "execution_count": null,
   "id": "d81b650b",
   "metadata": {},
   "outputs": [],
   "source": []
  }
 ],
 "metadata": {
  "hide_input": false,
  "kernelspec": {
   "display_name": "Python 3 (ipykernel)",
   "language": "python",
   "name": "python3"
  },
  "language_info": {
   "codemirror_mode": {
    "name": "ipython",
    "version": 3
   },
   "file_extension": ".py",
   "mimetype": "text/x-python",
   "name": "python",
   "nbconvert_exporter": "python",
   "pygments_lexer": "ipython3",
   "version": "3.10.4"
  }
 },
 "nbformat": 4,
 "nbformat_minor": 5
}
